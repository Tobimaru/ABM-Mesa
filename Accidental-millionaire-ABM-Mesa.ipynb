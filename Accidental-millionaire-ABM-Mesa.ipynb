{
 "cells": [
  {
   "cell_type": "markdown",
   "metadata": {},
   "source": [
    "### Accidental millionaire \n",
    "\n",
    "This is a simple agent-based model as presented in the gitbook by Marco Janssen:\n",
    "\n",
    "https://legacy.gitbook.com/book/cbie/introduction-to-agent-based-modeling/details\n",
    "\n",
    "Agents predict the trend of the stock market and invest an equal amount in a shared pool. Agents who were correct, receive a share of the pool."
   ]
  },
  {
   "cell_type": "code",
   "execution_count": null,
   "metadata": {
    "collapsed": true
   },
   "outputs": [],
   "source": [
    "import numpy as np\n",
    "\n",
    "from mesa import Agent, Model\n",
    "from mesa.time import RandomActivation\n",
    "\n",
    "from bokeh.models import ColumnDataSource\n",
    "from bokeh.plotting import output_notebook, figure, show\n",
    "from bokeh.layouts import row\n",
    "from bokeh.io import push_notebook"
   ]
  },
  {
   "cell_type": "code",
   "execution_count": null,
   "metadata": {
    "collapsed": true
   },
   "outputs": [],
   "source": [
    "#embed figures in the notebook\n",
    "output_notebook()"
   ]
  },
  {
   "cell_type": "markdown",
   "metadata": {},
   "source": [
    "### Creating the model"
   ]
  },
  {
   "cell_type": "markdown",
   "metadata": {},
   "source": [
    "The evolution of the stock market is simulated by sampling a Bernouilli distribution (0 = stock market goes down, 1 = stock market goes up). The agents prediction of the stock market is modeled by sampling a Bernouilli distribution. In each step, all agents invest the same amount in the a shared pool. Each agent that made a correct prediction, receives an equal share of the pool."
   ]
  },
  {
   "cell_type": "code",
   "execution_count": null,
   "metadata": {
    "collapsed": true
   },
   "outputs": [],
   "source": [
    "class StockPredictor(Agent):\n",
    "    def __init__(self, unique_id, model):\n",
    "        super().__init__(unique_id, model)\n",
    "        self.earnings = 0.0\n",
    "        self.guess = None\n",
    "    \n",
    "    def step(self):\n",
    "        self.guess = np.random.binomial(1,0.5)\n",
    "        self.earnings -= self.model.stock_price"
   ]
  },
  {
   "cell_type": "code",
   "execution_count": null,
   "metadata": {
    "collapsed": true
   },
   "outputs": [],
   "source": [
    "class StockPredicterModel(Model):\n",
    "    def __init__(self, N):\n",
    "        self.number_agents = N\n",
    "        self.stock_price = 1.0\n",
    "        self.pool = 0.0\n",
    "        self.stock_market = None\n",
    "        self.schedule = RandomActivation(self)\n",
    "        # Create agents\n",
    "        for i in range(self.number_agents):\n",
    "            a = StockPredictor(i, self)\n",
    "            self.schedule.add(a)\n",
    "            \n",
    "    def step(self):\n",
    "        self.pool = self.number_agents * self.stock_price\n",
    "        self.stock_market = np.random.binomial(1, 0.5)\n",
    "        self.schedule.step()\n",
    "        self._payout()\n",
    "    \n",
    "    def _count_correct_agents(self):\n",
    "        number_correct = 0\n",
    "        for agent in self.schedule.agents:\n",
    "            if agent.guess == self.stock_market:\n",
    "                number_correct += 1\n",
    "        return number_correct\n",
    "    \n",
    "    def _payout(self):\n",
    "        number_correct = self._count_correct_agents()\n",
    "        pool_share = self.pool / number_correct \\\n",
    "                        if number_correct > 0 else 0.0\n",
    "        for agent in self.schedule.agents:\n",
    "            if agent.guess == self.stock_market:\n",
    "                agent.earnings += pool_share"
   ]
  },
  {
   "cell_type": "markdown",
   "metadata": {},
   "source": [
    "#### Visualization \n",
    "\n",
    "These are functions for visualization in bokeh. We will visualize the histogram of the agents' earnings and the evolution of the maximum earning."
   ]
  },
  {
   "cell_type": "code",
   "execution_count": null,
   "metadata": {
    "collapsed": true
   },
   "outputs": [],
   "source": [
    "def get_earnings(agents):\n",
    "    return np.array([agent.earnings for agent in agents])"
   ]
  },
  {
   "cell_type": "code",
   "execution_count": null,
   "metadata": {
    "collapsed": true
   },
   "outputs": [],
   "source": [
    "def create_histogram_earnings(agents, number_bins=10):\n",
    "    return np.histogram(get_earnings(agents), \n",
    "                        density=False, bins=number_bins)"
   ]
  },
  {
   "cell_type": "code",
   "execution_count": null,
   "metadata": {
    "collapsed": true
   },
   "outputs": [],
   "source": [
    "def max_earnings(agents):\n",
    "    return np.max(get_earnings(agents))"
   ]
  },
  {
   "cell_type": "code",
   "execution_count": null,
   "metadata": {
    "collapsed": true
   },
   "outputs": [],
   "source": [
    "def update_max_earnings(old_data, agents, step_index):\n",
    "    new_data = {}\n",
    "    new_data['steps'] = np.append(old_data['steps'],[step_index]) \\\n",
    "                               if step_index else np.array([step_index])\n",
    "    new_data['max_earnings'] = np.append(old_data['max_earnings'],\n",
    "                                         [max_earnings(agents)]) \\\n",
    "                                    if step_index else np.array([max_earnings(agents)])\n",
    "    return new_data"
   ]
  },
  {
   "cell_type": "code",
   "execution_count": null,
   "metadata": {
    "collapsed": true
   },
   "outputs": [],
   "source": [
    "def update_hist_earnings(agents, number_bins=10):\n",
    "    new_data = {}\n",
    "    hist, edges = create_histogram_earnings(agents, number_bins);\n",
    "    new_data['hist'] = hist\n",
    "    new_data['left_edges'] = edges[:-1]\n",
    "    new_data['right_edges'] = edges[1:]\n",
    "\n",
    "    return new_data"
   ]
  },
  {
   "cell_type": "code",
   "execution_count": null,
   "metadata": {
    "collapsed": true
   },
   "outputs": [],
   "source": [
    "def show_data(data_hist, data_max):\n",
    "    fig_hist = figure(plot_width=350, plot_height=350, \n",
    "                      title='distribution earnings')\n",
    "    fig_hist.quad(top='hist', bottom=0, left='left_edges', right='right_edges',\n",
    "                  source=data_hist, fill_color=\"#036564\", line_color=\"#033649\")\n",
    "    fig_max = figure(plot_width=640, plot_height=350,\n",
    "                     title='maximum earnings')\n",
    "    fig_max.line('steps', 'max_earnings', source=data_max, \n",
    "                  line_width=2, line_color='blue')\n",
    "    fig_max.legend.location = \"top_left\"\n",
    "    show(row(fig_hist, fig_max), notebook_handle=True)"
   ]
  },
  {
   "cell_type": "markdown",
   "metadata": {},
   "source": [
    "### Run the model"
   ]
  },
  {
   "cell_type": "code",
   "execution_count": null,
   "metadata": {
    "collapsed": true
   },
   "outputs": [],
   "source": [
    "number_agents = 200\n",
    "#Mesa is not so fast, so keep the number of agents reasonable\n",
    "model = StockPredicterModel(number_agents) "
   ]
  },
  {
   "cell_type": "code",
   "execution_count": null,
   "metadata": {
    "collapsed": true
   },
   "outputs": [],
   "source": [
    "data_hist = ColumnDataSource(\n",
    "    data={'hist': [0.], 'left_edges': [0.], 'right_edges': [0.]})\n",
    "\n",
    "data_max = ColumnDataSource(\n",
    "    data={'steps': [0.], 'max_earnings': [0.]})\n",
    "\n",
    "show_data(data_hist, data_max)\n",
    "\n",
    "number_steps = 10000\n",
    "number_bins = number_agents / 20\n",
    "log_step = number_steps / 100\n",
    "for i in range(number_steps):\n",
    "    model.step()\n",
    "    if not (i % log_step):\n",
    "        data_hist.data = update_hist_earnings(\n",
    "                                model.schedule.agents)\n",
    "        data_max.data = update_max_earnings(\n",
    "                                data_max.data, model.schedule.agents, i)\n",
    "        push_notebook() "
   ]
  }
 ],
 "metadata": {
  "kernelspec": {
   "display_name": "Python (mesa)",
   "language": "python",
   "name": "mesa"
  },
  "language_info": {
   "codemirror_mode": {
    "name": "ipython",
    "version": 3
   },
   "file_extension": ".py",
   "mimetype": "text/x-python",
   "name": "python",
   "nbconvert_exporter": "python",
   "pygments_lexer": "ipython3",
   "version": "3.6.3"
  }
 },
 "nbformat": 4,
 "nbformat_minor": 2
}
