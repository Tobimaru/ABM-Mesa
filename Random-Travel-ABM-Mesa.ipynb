{
 "cells": [
  {
   "cell_type": "markdown",
   "metadata": {},
   "source": [
    "### Random traveling\n",
    "\n",
    "This is a simple spatial agent-based model that models agents with different probabilities of random movement. Two sub-populations are created, one with a low probability of traveling and one with higher probability. Each agent moves randomly to a neighboring cell in the grid, and as such performs a random walk."
   ]
  },
  {
   "cell_type": "code",
   "execution_count": null,
   "metadata": {
    "collapsed": true
   },
   "outputs": [],
   "source": [
    "import random\n",
    "import numpy as np\n",
    "\n",
    "from mesa import Agent, Model\n",
    "from mesa.time import RandomActivation\n",
    "from mesa.space import MultiGrid\n",
    "\n",
    "from bokeh.models import ColumnDataSource, BasicTicker, CategoricalTicker, LinearColorMapper\n",
    "from bokeh.plotting import output_notebook, figure, show\n",
    "from bokeh.layouts import row\n",
    "from bokeh.transform import transform\n",
    "from bokeh.io import push_notebook"
   ]
  },
  {
   "cell_type": "code",
   "execution_count": null,
   "metadata": {},
   "outputs": [],
   "source": [
    "#embed figures in the notebook\n",
    "output_notebook()"
   ]
  },
  {
   "cell_type": "markdown",
   "metadata": {},
   "source": [
    "#### Create the model"
   ]
  },
  {
   "cell_type": "code",
   "execution_count": null,
   "metadata": {
    "collapsed": true
   },
   "outputs": [],
   "source": [
    "class Traveler(Agent):\n",
    "    def __init__(self, unique_id, model, travel_prob):\n",
    "        super().__init__(unique_id, model)\n",
    "        self.travel_prob = travel_prob\n",
    "    \n",
    "    def _travel(self):\n",
    "        possible_steps = self.model.grid.get_neighborhood(\n",
    "                self.pos, moore=True, include_center=False)\n",
    "        new_position = random.choice(possible_steps)\n",
    "        self.model.grid.move_agent(self, new_position)\n",
    "    \n",
    "    def move(self):\n",
    "        if np.random.binomial(1,self.travel_prob):\n",
    "            self._travel()\n",
    "    \n",
    "    def step(self):\n",
    "        self.move()"
   ]
  },
  {
   "cell_type": "code",
   "execution_count": null,
   "metadata": {
    "collapsed": true
   },
   "outputs": [],
   "source": [
    "class TravelModel(Model):\n",
    "    def __init__(self, N, travel_probs, width, height):\n",
    "        self.number_agents = N\n",
    "        self.grid = MultiGrid(width, height, True)\n",
    "        self.schedule = RandomActivation(self)\n",
    "        # Create agents\n",
    "        for i in range(self.number_agents):\n",
    "            # Give randomly some agents high or \n",
    "            # low probability to travel\n",
    "            a = Traveler(\n",
    "                i, self, travel_probs[int(np.random.binomial(1,0.5))])\n",
    "            self.schedule.add(a)\n",
    "        #put agents in initial position    \n",
    "        self._init_travelers()\n",
    "    \n",
    "    def step(self):\n",
    "        self.schedule.step()\n",
    "            \n",
    "    def _init_travelers(self):\n",
    "        #agents are initially randomly distributed in the center of grid\n",
    "        initial_dim = np.ceil(np.sqrt(self.number_agents))\n",
    "        \n",
    "        for agent in self.schedule.agents:\n",
    "            center_x = self.grid.width/2\n",
    "            center_y = self.grid.height/2\n",
    "        \n",
    "            x = np.random.randint(center_x - initial_dim, center_x + initial_dim)\n",
    "            y = np.random.randint(center_y - initial_dim, center_y + initial_dim)\n",
    "            self.grid.place_agent(agent, (x, y))"
   ]
  },
  {
   "cell_type": "markdown",
   "metadata": {},
   "source": [
    "#### Visualization"
   ]
  },
  {
   "cell_type": "code",
   "execution_count": null,
   "metadata": {
    "collapsed": true
   },
   "outputs": [],
   "source": [
    "def update_agents_data(agents):\n",
    "    new_data = {}\n",
    "    agents_positions = np.array([agent.pos for agent in agents])\n",
    "    new_data['x'] = np.array([pos[0] for pos in agents_positions])\n",
    "    new_data['y'] = np.array([pos[1] for pos in agents_positions])\n",
    "    new_data['travel_prob'] = np.array([agent.travel_prob for agent in agents])\n",
    "    return new_data"
   ]
  },
  {
   "cell_type": "code",
   "execution_count": null,
   "metadata": {},
   "outputs": [],
   "source": [
    "def show_data(agents_data, travel_probs, grid):\n",
    "    colors = ['blue', 'red']\n",
    "    mapper = LinearColorMapper(palette=colors, \n",
    "                               low=travel_probs[0], \n",
    "                               high=travel_probs[1])\n",
    "\n",
    "    p = figure(plot_width=500, plot_height=500, title='Travel Model',\n",
    "               x_range=[str(val) for val in range(grid.width)], \n",
    "               y_range=[str(val) for val in range(grid.height)],\n",
    "               x_axis_location='below')\n",
    "\n",
    "    p.circle(x='x', y='y', size=10, source=agents_data,\n",
    "       line_color=None, fill_color=transform('travel_prob', mapper))\n",
    "\n",
    "    p.axis.axis_line_color = None\n",
    "    p.axis.major_tick_line_color = None\n",
    "    p.axis.major_label_text_font_size = '0pt'\n",
    "    \n",
    "    show(p, notebook_handle=True)"
   ]
  },
  {
   "cell_type": "markdown",
   "metadata": {},
   "source": [
    "#### Run the model"
   ]
  },
  {
   "cell_type": "code",
   "execution_count": null,
   "metadata": {
    "collapsed": true
   },
   "outputs": [],
   "source": [
    "number_agents = 50\n",
    "grid_height = 50\n",
    "grid_width = 50\n",
    "travel_probs = (1e-4, 0.01)"
   ]
  },
  {
   "cell_type": "code",
   "execution_count": null,
   "metadata": {
    "collapsed": true
   },
   "outputs": [],
   "source": [
    "model = TravelModel(number_agents, travel_probs, grid_width, grid_height)"
   ]
  },
  {
   "cell_type": "code",
   "execution_count": null,
   "metadata": {},
   "outputs": [],
   "source": [
    "agents_data = ColumnDataSource(update_agents_data(model.schedule.agents))\n",
    "show_data(agents_data, travel_probs, model.grid)\n",
    "\n",
    "number_steps = 10000\n",
    "log_step = number_steps / 100\n",
    "for i in range(number_steps):\n",
    "    model.step()\n",
    "    if not (i % log_step):\n",
    "        agents_data.data = update_agents_data(model.schedule.agents)\n",
    "        push_notebook() "
   ]
  },
  {
   "cell_type": "markdown",
   "metadata": {},
   "source": [
    "### Visualization using Mesa\n",
    "\n",
    "This doesn't seem to work."
   ]
  },
  {
   "cell_type": "code",
   "execution_count": null,
   "metadata": {
    "collapsed": true
   },
   "outputs": [],
   "source": [
    "from mesa.visualization.modules import CanvasGrid\n",
    "from mesa.visualization.ModularVisualization import ModularServer"
   ]
  },
  {
   "cell_type": "code",
   "execution_count": null,
   "metadata": {
    "collapsed": true
   },
   "outputs": [],
   "source": [
    "def agent_portrayal(agent):\n",
    "    color = \"red\" if agent.long_dist_prob >= 0.5 \\\n",
    "                  else \"blue\" \n",
    "    return {\"Shape\": \"circle\",\n",
    "            \"Color\": \"red\",\n",
    "            \"Filled\": \"true\",\n",
    "            \"Layer\": 0,\n",
    "            \"r\": 0.5}\n",
    "\n",
    "grid = CanvasGrid(agent_portrayal, grid_width, grid_height, 1000, 1000)\n",
    "\n",
    "server = ModularServer(TravelModel,\n",
    "                       [grid],\n",
    "                       \"TravelModel\",\n",
    "                       {\"N\": number_agents, \n",
    "                        \"long_dist_prob\": long_dist_probs, \n",
    "                        \"width\": grid_width, \n",
    "                        \"height\": grid_height})"
   ]
  },
  {
   "cell_type": "code",
   "execution_count": null,
   "metadata": {
    "scrolled": true
   },
   "outputs": [],
   "source": [
    "server.port = 8521 # The default\n",
    "server.launch()"
   ]
  }
 ],
 "metadata": {
  "kernelspec": {
   "display_name": "Python (mesa)",
   "language": "python",
   "name": "mesa"
  },
  "language_info": {
   "codemirror_mode": {
    "name": "ipython",
    "version": 3
   },
   "file_extension": ".py",
   "mimetype": "text/x-python",
   "name": "python",
   "nbconvert_exporter": "python",
   "pygments_lexer": "ipython3",
   "version": "3.6.3"
  }
 },
 "nbformat": 4,
 "nbformat_minor": 2
}
